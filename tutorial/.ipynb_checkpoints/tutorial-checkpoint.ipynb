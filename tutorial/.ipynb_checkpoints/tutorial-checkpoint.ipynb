{
 "cells": [
  {
   "cell_type": "markdown",
   "metadata": {},
   "source": [
    "# Tutorial"
   ]
  },
  {
   "cell_type": "markdown",
   "metadata": {},
   "source": [
    "This tutorial contains several examples of GaussianRandomFields."
   ]
  },
  {
   "cell_type": "code",
   "execution_count": null,
   "metadata": {},
   "outputs": [],
   "source": [
    "using PyPlot, GaussianRandomFields"
   ]
  },
  {
   "cell_type": "markdown",
   "metadata": {},
   "source": [
    "## 1D Exponential covariance function"
   ]
  },
  {
   "cell_type": "markdown",
   "metadata": {},
   "source": [
    "In this first example, we consider the exponential covariance function $C(r) = \\exp(-r/\\lambda)$ with length scale $\\lambda=0.1$. Sample paths of a Gaussian process with an exponential covariance function are typically non-smooth. First, define the covariance stucture using `Exponential`."
   ]
  },
  {
   "cell_type": "code",
   "execution_count": null,
   "metadata": {},
   "outputs": [],
   "source": [
    "exp = Exponential(0.1)"
   ]
  },
  {
   "cell_type": "markdown",
   "metadata": {},
   "source": [
    "A Gaussian process defined on $[0,1]$ that uses this covariance function can be generated with `CovarianceFunction`."
   ]
  },
  {
   "cell_type": "code",
   "execution_count": null,
   "metadata": {},
   "outputs": [],
   "source": [
    "cov = CovarianceFunction(1,exp)"
   ]
  },
  {
   "cell_type": "markdown",
   "metadata": {},
   "source": [
    "Discretize the domain with step $\\Delta t = 0.01$ and use a Cholesky factorization of the covariance matrix to generate samples of the Gaussian process."
   ]
  },
  {
   "cell_type": "code",
   "execution_count": null,
   "metadata": {},
   "outputs": [],
   "source": [
    "pts = 0:0.01:1\n",
    "grf = GaussianRandomField(cov,Cholesky(),pts)"
   ]
  },
  {
   "cell_type": "markdown",
   "metadata": {},
   "source": [
    "Samples of the Gaussian process can be computed with the `sample`-function."
   ]
  },
  {
   "cell_type": "code",
   "execution_count": null,
   "metadata": {},
   "outputs": [],
   "source": [
    "sample(grf)"
   ]
  },
  {
   "cell_type": "markdown",
   "metadata": {},
   "source": [
    "It is also possible to provide your own random numbers to sample from the random field using the optional argument `xi`."
   ]
  },
  {
   "cell_type": "code",
   "execution_count": null,
   "metadata": {},
   "outputs": [],
   "source": [
    "sample(grf,xi=randn(101));"
   ]
  },
  {
   "cell_type": "markdown",
   "metadata": {},
   "source": [
    "Let us generate a figure of 5 different sample paths. For convenience, we provide several plotting commands using `PyPlot`."
   ]
  },
  {
   "cell_type": "code",
   "execution_count": null,
   "metadata": {},
   "outputs": [],
   "source": [
    "plot(grf,n=5)"
   ]
  },
  {
   "cell_type": "markdown",
   "metadata": {},
   "source": [
    "## 2D Matérn covariance function"
   ]
  },
  {
   "cell_type": "markdown",
   "metadata": {},
   "source": [
    "In this second example, we turn from Gaussian processes to Gaussian random fields ($d>1$). A well-known stationary isotropic covariance function is the Matérn covariance function\n",
    "\n",
    "$C(r) = \\frac{2^{1-\\nu}}{\\Gamma(\\nu)}\\left(\\sqrt{2\\nu}\\frac{r}{\\lambda}\\right)^\\nu K_\\nu\\left(\\sqrt{2\\nu}\\frac{r}{\\lambda}\\right)$\n",
    "\n",
    "where $\\lambda$ is the correlation length and $\\sigma$ is a smoothness parameter. Consider a Gaussian random field defined on $[0,1]^2$ that uses this covariance function."
   ]
  },
  {
   "cell_type": "code",
   "execution_count": null,
   "metadata": {},
   "outputs": [],
   "source": [
    "mat = Matern(0.5,2.0)"
   ]
  },
  {
   "cell_type": "code",
   "execution_count": null,
   "metadata": {},
   "outputs": [],
   "source": [
    "cov = CovarianceFunction(2,mat)"
   ]
  },
  {
   "cell_type": "code",
   "execution_count": null,
   "metadata": {},
   "outputs": [],
   "source": [
    "pts = 0:0.02:1\n",
    "grf = GaussianRandomField(cov,Cholesky(),pts,pts)"
   ]
  },
  {
   "cell_type": "markdown",
   "metadata": {},
   "source": [
    "Visualisation of this Gaussian random field is possible using `surf`, `contour` and `contourf`."
   ]
  },
  {
   "cell_type": "code",
   "execution_count": null,
   "metadata": {},
   "outputs": [],
   "source": [
    "contourf(grf)"
   ]
  },
  {
   "cell_type": "markdown",
   "metadata": {},
   "source": [
    "Here is a visual comparison of different random fields with a decreasing smoothness parameter $\\nu$."
   ]
  },
  {
   "cell_type": "code",
   "execution_count": null,
   "metadata": {},
   "outputs": [],
   "source": [
    "pts = 0:0.02:1\n",
    "grfs = GaussianRandomField[]\n",
    "for ν in [2 1.5 1 0.5]\n",
    "    mat = Matern(0.5,ν)\n",
    "    cov = CovarianceFunction(2,mat)\n",
    "    push!(grfs,GaussianRandomField(cov,Cholesky(),pts,pts))\n",
    "end"
   ]
  },
  {
   "cell_type": "code",
   "execution_count": null,
   "metadata": {},
   "outputs": [],
   "source": [
    "for i in 1:length(grfs)\n",
    "    srand(0)\n",
    "    subplot(2,2,i); contourf(grfs[i])\n",
    "end"
   ]
  },
  {
   "cell_type": "markdown",
   "metadata": {},
   "source": [
    "## Gaussian random field generators"
   ]
  },
  {
   "cell_type": "markdown",
   "metadata": {},
   "source": [
    "There is an implementation available for most common methods to generate Gaussian random fields: Cholesky factorization, Karhunen-Loève (KL) expansion, and circulant embedding. Which method is best suited for your application depends amongst others on the correlation length and smoothness of the covariance function, and the number of points in the domain of interest. In general, we recommend the circulant embedding technique or the KL expansion."
   ]
  },
  {
   "cell_type": "markdown",
   "metadata": {},
   "source": [
    "### Cholesky factorization"
   ]
  },
  {
   "cell_type": "markdown",
   "metadata": {},
   "source": [
    "The `Cholesky()` method uses a Cholesky factorization of the covariance matrix. That is, we compute $C=LL'$, where $L$ is a lower triangular matrix. Samples of the Gaussian random field are computed as $\\boldsymbol{z}=L' \\boldsymbol{\\xi}$, where $\\boldsymbol{\\xi}$ is a vector of standard normal random numbers. As more and more points are used in the domain of interest, computing this approximation becomes too expensive. Furthermore, the expansion can only be computed when the covariance matrix is symmetric positive definite (SPD)."
   ]
  },
  {
   "cell_type": "code",
   "execution_count": null,
   "metadata": {},
   "outputs": [],
   "source": [
    "gau = Gaussian(0.1)\n",
    "cov = CovarianceFunction(2,gau)\n",
    "pts = 0:0.02:1\n",
    "#grf = GaussianRandomField(cov,Cholesky(),pts,pts) # this will fail"
   ]
  },
  {
   "cell_type": "markdown",
   "metadata": {},
   "source": [
    "If this is not the case, we can still compute an eigenvalue decomposition of the covariance matrix: $C=UDV'$. Samples are then provided using $\\boldsymbol{z}= U\\sqrt{D} \\boldsymbol{\\xi}$. If negative eigenvalues are detected, samples of the Gaussian random field will only be approximate."
   ]
  },
  {
   "cell_type": "code",
   "execution_count": null,
   "metadata": {},
   "outputs": [],
   "source": [
    "grf = GaussianRandomField(cov,Spectral(),pts,pts)\n",
    "contourf(grf);"
   ]
  },
  {
   "cell_type": "markdown",
   "metadata": {},
   "source": [
    "### Karhunen-Loève expansion"
   ]
  },
  {
   "cell_type": "markdown",
   "metadata": {},
   "source": [
    "A KL expansion is a representation of a Gaussian process or random field is an infinite linear combination of\n",
    "orthogonal functions, similar to a Fourier expansion:\n",
    "\n",
    "$\\boldsymbol{z}=\\sum_n \\sqrt{\\theta_n} \\psi_n \\xi_n$.\n",
    "\n",
    "We refer to [1] for details on the implementation. Collocation. `KarhunenLoeve(n)`, where `n` refers to the number of terms in the expansion."
   ]
  },
  {
   "cell_type": "code",
   "execution_count": null,
   "metadata": {},
   "outputs": [],
   "source": [
    "exp =  Exponential(0.1)\n",
    "cov = CovarianceFunction(2,exp)\n",
    "pts = 0:0.01:1\n",
    "grf = GaussianRandomField(cov,KarhunenLoeve(250),pts,pts)"
   ]
  },
  {
   "cell_type": "markdown",
   "metadata": {},
   "source": [
    "The decay of the eigenvalues is shown here:"
   ]
  },
  {
   "cell_type": "code",
   "execution_count": null,
   "metadata": {},
   "outputs": [],
   "source": [
    "plot_eigenvalues(grf)"
   ]
  },
  {
   "cell_type": "markdown",
   "metadata": {},
   "source": [
    "The first few eigenfunctions are shown below. Note that, as $n$ increases the eigenfunctions become more and more oscillatory."
   ]
  },
  {
   "cell_type": "code",
   "execution_count": null,
   "metadata": {},
   "outputs": [],
   "source": [
    "for i in 1:12\n",
    "    subplot(4,3,i); plot_eigenfunction(grf,i)\n",
    "end"
   ]
  },
  {
   "cell_type": "markdown",
   "metadata": {},
   "source": [
    "There are several options to improve the numerical approximation of the KL expansion. The number of quadrature points (in one dimension) can be specified using the optional argument `nq`. The quadrature method can be `EOLE()` (default), `Midpoint()`, `Trapezoidal()`, `Simpson()` or `GaussLegendre()`."
   ]
  },
  {
   "cell_type": "code",
   "execution_count": null,
   "metadata": {},
   "outputs": [],
   "source": [
    "grf = GaussianRandomField(cov,KarhunenLoeve(250),pts,pts,nq=50,quad=GaussLegendre())\n",
    "plot_eigenvalues(grf)"
   ]
  },
  {
   "cell_type": "markdown",
   "metadata": {},
   "source": [
    "The more terms `n` are added in the expansion, the better the approximation using an `n`-term KL expansion will be. In fact, the KL expansion is the respresentation of a Gaussian random field that minimizes the *mean square error* for a finite number of terms `n`."
   ]
  },
  {
   "cell_type": "code",
   "execution_count": null,
   "metadata": {},
   "outputs": [],
   "source": [
    "nterms = [1 2 5 10 20 50 100 200 500 1000]\n",
    "error = []\n",
    "for n in nterms\n",
    "    grf = GaussianRandomField(cov,KarhunenLoeve(n),pts,pts)\n",
    "    push!(error,rel_error(grf))\n",
    "end"
   ]
  },
  {
   "cell_type": "code",
   "execution_count": null,
   "metadata": {},
   "outputs": [],
   "source": [
    "println(\" #terms |  relative error\")\n",
    "println(\"--------------------------\")\n",
    "[@printf(\"   %4d |  %0.4f\\n\",nterms[i],error[i]) for i in 1:length(nterms)];"
   ]
  },
  {
   "cell_type": "markdown",
   "metadata": {},
   "source": [
    "### Circulant Embedding"
   ]
  },
  {
   "cell_type": "markdown",
   "metadata": {},
   "source": [
    "*** this is work in progress ***"
   ]
  },
  {
   "cell_type": "markdown",
   "metadata": {},
   "source": [
    "## Other Gaussian random fields"
   ]
  },
  {
   "cell_type": "markdown",
   "metadata": {},
   "source": [
    "Generation of non-isotropic Gaussian random fields is possible by using the $p=1$ norm in the covariance function. The standard deviation of the random field can be adapted with the optional argument $\\sigma$. Here is an example of an exponential covariance function with correlation length $\\lambda=0.5$, norm $p=1$ and standard deviation $\\sigma=0.5$."
   ]
  },
  {
   "cell_type": "code",
   "execution_count": null,
   "metadata": {},
   "outputs": [],
   "source": [
    "exp =  Exponential(0.5,σ=0.5,p=1)\n",
    "cov = CovarianceFunction(1,exp)\n",
    "pts = 0:0.01:1\n",
    "grf = GaussianRandomField(cov,Cholesky(),pts)\n",
    "plot(grf,n=10)"
   ]
  },
  {
   "cell_type": "markdown",
   "metadata": {},
   "source": [
    "It is also possible to define a Gaussian random field on a non-equidistant structured grid. Below is an example on a Chebyshev grid."
   ]
  },
  {
   "cell_type": "code",
   "execution_count": null,
   "metadata": {},
   "outputs": [],
   "source": [
    "mat =  Matern(0.4,1.5)\n",
    "cov = CovarianceFunction(2,mat)\n",
    "pts = 0:0.02:1\n",
    "pts = cos.(pi*pts)\n",
    "grf = GaussianRandomField(cov,Cholesky(),pts,pts)\n",
    "surf(grf)"
   ]
  },
  {
   "cell_type": "markdown",
   "metadata": {},
   "source": [
    "## Custom covariance functions"
   ]
  },
  {
   "cell_type": "markdown",
   "metadata": {},
   "source": [
    "Another well-known covariance function is the triangular (or *tent*) covariance \n",
    "\n",
    "$C(r)=1-\\frac{r}{\\lambda}$, $r \\in [0,\\lambda]$.\n",
    "\n",
    "For this kernel, analytic expressions are known for both eigenvalues and eigenfunctions. It is very straightforward to add this covariance function. We only need to define a `Triangular` type, and implement the `apply()` function. "
   ]
  },
  {
   "cell_type": "code",
   "execution_count": null,
   "metadata": {},
   "outputs": [],
   "source": [
    "struct Triangular{T} <: CovarianceStructure{T}\n",
    "    λ::T\n",
    "    σ::T\n",
    "    p::T\n",
    "end\n",
    "\n",
    "GaussianRandomFields.apply(t::Triangular{T},x::T) where {T<:Real} = max(0.,1-x/t.λ)\n",
    "\n",
    "import Base.show\n",
    "show(io::IO, t::Triangular) = print(io, \"Triangular (λ=$(t.λ), σ=$(t.σ), p=$(t.p))\")"
   ]
  },
  {
   "cell_type": "markdown",
   "metadata": {},
   "source": [
    "Next, we can proceed as usual and compute a Gaussian random field that uses this tent covariance function with, for instance, a KL expansion."
   ]
  },
  {
   "cell_type": "code",
   "execution_count": null,
   "metadata": {},
   "outputs": [],
   "source": [
    "t = Triangular(5.,1.,2.)\n",
    "cov = CovarianceFunction(2,t)\n",
    "grf = GaussianRandomField(cov,KarhunenLoeve(1000),0:0.01:1,0:0.01:1)"
   ]
  },
  {
   "cell_type": "markdown",
   "metadata": {},
   "source": [
    "A sample of this Gaussian random field looks like this:"
   ]
  },
  {
   "cell_type": "code",
   "execution_count": null,
   "metadata": {},
   "outputs": [],
   "source": [
    "contourf(grf)"
   ]
  },
  {
   "cell_type": "markdown",
   "metadata": {},
   "source": [
    "The numerically computed eigenvalues and eigenfunctions are shown below."
   ]
  },
  {
   "cell_type": "code",
   "execution_count": null,
   "metadata": {},
   "outputs": [],
   "source": [
    "plot_eigenvalues(grf)"
   ]
  },
  {
   "cell_type": "code",
   "execution_count": null,
   "metadata": {},
   "outputs": [],
   "source": [
    "for i in 1:12\n",
    "    subplot(4,3,i); plot_eigenfunction(grf,i)\n",
    "end"
   ]
  },
  {
   "cell_type": "markdown",
   "metadata": {},
   "source": [
    "## Gaussian random fields defined on a Finite Element mesh"
   ]
  },
  {
   "cell_type": "markdown",
   "metadata": {},
   "source": [
    "Suppose the computational domain is not a square or rectangle, but is instead given as a Finite Element mesh. We can still compute a Gaussian random field in the points of this mesh. For example, a 7-pointed star has node table `p` and element table `t`.  "
   ]
  },
  {
   "cell_type": "code",
   "execution_count": null,
   "metadata": {},
   "outputs": [],
   "source": [
    "p = readdlm(\"../data/star.p\");\n",
    "t = readdlm(\"../data/star.t\",Int64);"
   ]
  },
  {
   "cell_type": "code",
   "execution_count": null,
   "metadata": {},
   "outputs": [],
   "source": [
    "mat = Matern(0.75,2.0)\n",
    "cov = CovarianceFunction(2,mat)\n",
    "grf = GaussianRandomField(cov,Cholesky(),p,t)"
   ]
  },
  {
   "cell_type": "code",
   "execution_count": null,
   "metadata": {},
   "outputs": [],
   "source": [
    "for i in 1:4\n",
    "    subplot(2,2,i); tricontourf(grf,linewidth=0)\n",
    "end"
   ]
  },
  {
   "cell_type": "markdown",
   "metadata": {},
   "source": [
    "Alternatively, we can use a KL expansion where the collocation points are specified on a bounding box surrounding the FE mesh. "
   ]
  },
  {
   "cell_type": "code",
   "execution_count": null,
   "metadata": {},
   "outputs": [],
   "source": [
    "grf = GaussianRandomField(cov,KarhunenLoeve(100),p,t)"
   ]
  },
  {
   "cell_type": "code",
   "execution_count": null,
   "metadata": {},
   "outputs": [],
   "source": [
    "for i in 1:12\n",
    "    subplot(4,3,i); plot_eigenfunction(grf,i,linewidth=0)\n",
    "end"
   ]
  },
  {
   "cell_type": "markdown",
   "metadata": {},
   "source": [
    "## 3D Gaussian random fields"
   ]
  },
  {
   "cell_type": "markdown",
   "metadata": {},
   "source": [
    "Higher-dimensional random fiels are also implemented. For example, consider a three-dimensional Gaussian random field with Matérn covariance and $\\lambda=0.1$, $\\nu=2$."
   ]
  },
  {
   "cell_type": "code",
   "execution_count": null,
   "metadata": {},
   "outputs": [],
   "source": [
    "mat = Matern(0.1,2.0)\n",
    "cov = CovarianceFunction(3,mat)\n",
    "pts = 0:0.02:1\n",
    "grf = GaussianRandomField(cov,KarhunenLoeve(100),pts,pts,pts)"
   ]
  },
  {
   "cell_type": "code",
   "execution_count": null,
   "metadata": {},
   "outputs": [],
   "source": [
    "plot(grf)"
   ]
  },
  {
   "cell_type": "markdown",
   "metadata": {},
   "source": [
    "For this computationally expensive covariance function, we could also use a separable covariance function, as in the next example."
   ]
  },
  {
   "cell_type": "markdown",
   "metadata": {},
   "source": [
    "## Separable non-stationary Gaussian random fields"
   ]
  },
  {
   "cell_type": "markdown",
   "metadata": {},
   "source": [
    "Separable covariance functions $C(\\boldsymbol{x},\\boldsymbol{y})=C_1(\\boldsymbol{x})C_2(\\boldsymbol{y})$ have the property that their covariance matrix can be written as a tensor product of two vectors that only depend on $\\boldsymbol{x}$ or $\\boldsymbol{y}$ respectively. This can greatly reduce the computational cost of computing a Gaussian random field in many points. For example, to compute the KL expansion of a two-dimensional exponential covariance function with correlation length $\\lambda=0.3$, we must compute the eigenvalue decomposition of two $m$-by-$m$ matrices (with $m$ the number of collocation points in each direction), instead of one $m^2$-by-$m^2$. This is more efficient both in memory and computation time."
   ]
  },
  {
   "cell_type": "code",
   "execution_count": null,
   "metadata": {},
   "outputs": [],
   "source": [
    "exp = Exponential(0.3)\n",
    "cov = SeparableCovarianceFunction(exp,exp)\n",
    "grf = GaussianRandomField(cov,KarhunenLoeve(4000),0:0.005:1,0:0.005:1)"
   ]
  },
  {
   "cell_type": "markdown",
   "metadata": {},
   "source": [
    "However, the visual artefacts of the tensor product are now clearly apparent in each sample."
   ]
  },
  {
   "cell_type": "code",
   "execution_count": null,
   "metadata": {},
   "outputs": [],
   "source": [
    "contourf(grf)"
   ]
  }
 ],
 "metadata": {
  "kernelspec": {
   "display_name": "Julia 0.6.1",
   "language": "julia",
   "name": "julia-0.6"
  },
  "language_info": {
   "file_extension": ".jl",
   "mimetype": "application/julia",
   "name": "julia",
   "version": "0.6.1"
  }
 },
 "nbformat": 4,
 "nbformat_minor": 2
}
